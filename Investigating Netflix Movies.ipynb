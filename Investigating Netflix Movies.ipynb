{
 "cells": [
  {
   "cell_type": "markdown",
   "id": "cc8c1496",
   "metadata": {},
   "source": [
    "## 🎯 Netflix Data Analysis Project – 1990s Movie Trends\n",
    "**Ανάλυση δεδομένων από Data Analyst**\n",
    "\n",
    "Σε αυτό το project εκτελείται εξερευνητική ανάλυση δεδομένων (Exploratory Data Analysis) για την κατανόηση τάσεων σε ταινίες της δεκαετίας του 1990 από το dataset `netflix_data.csv`.\n",
    "\n",
    "**Στόχοι ανάλυσης:**\n",
    "- Να εντοπιστεί ποια ήταν η πιο συχνή διάρκεια ταινιών που κυκλοφόρησαν μεταξύ 1990 και 1999.\n",
    "- Να μετρηθεί ο αριθμός των σύντομων ταινιών δράσης (διάρκεια < 90 λεπτά) που κυκλοφόρησαν την ίδια περίοδο.\n",
    "\n",
    "Οι παρακάτω αναλύσεις έχουν πραγματοποιηθεί από έναν Data Analyst για να εξάγουμε χρήσιμες πληροφορίες σχετικά με το είδος, τη διάρκεια και τις χρονικές τάσεις των ταινιών στη δεκαετία του '90."
   ]
  },
  {
   "cell_type": "markdown",
   "id": "34531913",
   "metadata": {},
   "source": [
    "### 🧾 Βήμα 1: Εισαγωγή βιβλιοθηκών και ανάγνωση δεδομένων\n",
    "Σε αυτό το βήμα εισάγουμε τις βιβλιοθήκες `pandas` και `matplotlib`, και φορτώνουμε τα δεδομένα από αρχείο CSV σε ένα DataFrame."
   ]
  },
  {
   "cell_type": "code",
   "execution_count": 2,
   "id": "300c73f6-6e12-48d9-a4e7-0469de9e304d",
   "metadata": {},
   "outputs": [],
   "source": [
    "# Importing pandas and matplotlib\n",
    "import pandas as pd\n",
    "import matplotlib.pyplot as plt\n",
    "\n",
    "# Read in the Netflix CSV as a DataFrame\n",
    "netflix_df = pd.read_csv(\"netflix_data.csv\")"
   ]
  },
  {
   "cell_type": "markdown",
   "id": "4a1990b2",
   "metadata": {},
   "source": [
    "### 📋 Βήμα 2: Εμφάνιση πρώτων γραμμών\n",
    "Εμφανίζουμε τις πρώτες γραμμές του DataFrame για να δούμε τη δομή των δεδομένων."
   ]
  },
  {
   "cell_type": "code",
   "execution_count": 4,
   "id": "39dc7d56-4a34-4429-8d74-1484e058c347",
   "metadata": {
    "panel-layout": {
     "height": 1062.800048828125,
     "visible": true,
     "width": 100
    }
   },
   "outputs": [
    {
     "data": {
      "text/html": [
       "<div>\n",
       "<style scoped>\n",
       "    .dataframe tbody tr th:only-of-type {\n",
       "        vertical-align: middle;\n",
       "    }\n",
       "\n",
       "    .dataframe tbody tr th {\n",
       "        vertical-align: top;\n",
       "    }\n",
       "\n",
       "    .dataframe thead th {\n",
       "        text-align: right;\n",
       "    }\n",
       "</style>\n",
       "<table border=\"1\" class=\"dataframe\">\n",
       "  <thead>\n",
       "    <tr style=\"text-align: right;\">\n",
       "      <th></th>\n",
       "      <th>show_id</th>\n",
       "      <th>type</th>\n",
       "      <th>title</th>\n",
       "      <th>director</th>\n",
       "      <th>cast</th>\n",
       "      <th>country</th>\n",
       "      <th>date_added</th>\n",
       "      <th>release_year</th>\n",
       "      <th>duration</th>\n",
       "      <th>description</th>\n",
       "      <th>genre</th>\n",
       "    </tr>\n",
       "  </thead>\n",
       "  <tbody>\n",
       "    <tr>\n",
       "      <th>0</th>\n",
       "      <td>s2</td>\n",
       "      <td>Movie</td>\n",
       "      <td>7:19</td>\n",
       "      <td>Jorge Michel Grau</td>\n",
       "      <td>Demián Bichir, Héctor Bonilla, Oscar Serrano, ...</td>\n",
       "      <td>Mexico</td>\n",
       "      <td>December 23, 2016</td>\n",
       "      <td>2016</td>\n",
       "      <td>93</td>\n",
       "      <td>After a devastating earthquake hits Mexico Cit...</td>\n",
       "      <td>Dramas</td>\n",
       "    </tr>\n",
       "    <tr>\n",
       "      <th>1</th>\n",
       "      <td>s3</td>\n",
       "      <td>Movie</td>\n",
       "      <td>23:59</td>\n",
       "      <td>Gilbert Chan</td>\n",
       "      <td>Tedd Chan, Stella Chung, Henley Hii, Lawrence ...</td>\n",
       "      <td>Singapore</td>\n",
       "      <td>December 20, 2018</td>\n",
       "      <td>2011</td>\n",
       "      <td>78</td>\n",
       "      <td>When an army recruit is found dead, his fellow...</td>\n",
       "      <td>Horror Movies</td>\n",
       "    </tr>\n",
       "    <tr>\n",
       "      <th>2</th>\n",
       "      <td>s4</td>\n",
       "      <td>Movie</td>\n",
       "      <td>9</td>\n",
       "      <td>Shane Acker</td>\n",
       "      <td>Elijah Wood, John C. Reilly, Jennifer Connelly...</td>\n",
       "      <td>United States</td>\n",
       "      <td>November 16, 2017</td>\n",
       "      <td>2009</td>\n",
       "      <td>80</td>\n",
       "      <td>In a postapocalyptic world, rag-doll robots hi...</td>\n",
       "      <td>Action</td>\n",
       "    </tr>\n",
       "    <tr>\n",
       "      <th>3</th>\n",
       "      <td>s5</td>\n",
       "      <td>Movie</td>\n",
       "      <td>21</td>\n",
       "      <td>Robert Luketic</td>\n",
       "      <td>Jim Sturgess, Kevin Spacey, Kate Bosworth, Aar...</td>\n",
       "      <td>United States</td>\n",
       "      <td>January 1, 2020</td>\n",
       "      <td>2008</td>\n",
       "      <td>123</td>\n",
       "      <td>A brilliant group of students become card-coun...</td>\n",
       "      <td>Dramas</td>\n",
       "    </tr>\n",
       "    <tr>\n",
       "      <th>4</th>\n",
       "      <td>s6</td>\n",
       "      <td>TV Show</td>\n",
       "      <td>46</td>\n",
       "      <td>Serdar Akar</td>\n",
       "      <td>Erdal Beşikçioğlu, Yasemin Allen, Melis Birkan...</td>\n",
       "      <td>Turkey</td>\n",
       "      <td>July 1, 2017</td>\n",
       "      <td>2016</td>\n",
       "      <td>1</td>\n",
       "      <td>A genetics professor experiments with a treatm...</td>\n",
       "      <td>International TV</td>\n",
       "    </tr>\n",
       "  </tbody>\n",
       "</table>\n",
       "</div>"
      ],
      "text/plain": [
       "  show_id     type  title           director  \\\n",
       "0      s2    Movie   7:19  Jorge Michel Grau   \n",
       "1      s3    Movie  23:59       Gilbert Chan   \n",
       "2      s4    Movie      9        Shane Acker   \n",
       "3      s5    Movie     21     Robert Luketic   \n",
       "4      s6  TV Show     46        Serdar Akar   \n",
       "\n",
       "                                                cast        country  \\\n",
       "0  Demián Bichir, Héctor Bonilla, Oscar Serrano, ...         Mexico   \n",
       "1  Tedd Chan, Stella Chung, Henley Hii, Lawrence ...      Singapore   \n",
       "2  Elijah Wood, John C. Reilly, Jennifer Connelly...  United States   \n",
       "3  Jim Sturgess, Kevin Spacey, Kate Bosworth, Aar...  United States   \n",
       "4  Erdal Beşikçioğlu, Yasemin Allen, Melis Birkan...         Turkey   \n",
       "\n",
       "          date_added  release_year  duration  \\\n",
       "0  December 23, 2016          2016        93   \n",
       "1  December 20, 2018          2011        78   \n",
       "2  November 16, 2017          2009        80   \n",
       "3    January 1, 2020          2008       123   \n",
       "4       July 1, 2017          2016         1   \n",
       "\n",
       "                                         description             genre  \n",
       "0  After a devastating earthquake hits Mexico Cit...            Dramas  \n",
       "1  When an army recruit is found dead, his fellow...     Horror Movies  \n",
       "2  In a postapocalyptic world, rag-doll robots hi...            Action  \n",
       "3  A brilliant group of students become card-coun...            Dramas  \n",
       "4  A genetics professor experiments with a treatm...  International TV  "
      ]
     },
     "execution_count": 4,
     "metadata": {},
     "output_type": "execute_result"
    }
   ],
   "source": [
    "netflix_df.head()"
   ]
  },
  {
   "cell_type": "markdown",
   "id": "98a88942",
   "metadata": {},
   "source": [
    "### 📊 Βήμα 3: Εύρεση της πιο συχνής διάρκειας ταινιών της δεκαετίας του 1990\n",
    "Φιλτράρουμε τις ταινίες της δεκαετίας του 1990 και βρίσκουμε ποια διάρκεια εμφανίζεται πιο συχνά."
   ]
  },
  {
   "cell_type": "code",
   "execution_count": 6,
   "id": "9265f224-a581-433b-9e90-c5dcab2d5831",
   "metadata": {},
   "outputs": [
    {
     "name": "stdout",
     "output_type": "stream",
     "text": [
      "94\n"
     ]
    }
   ],
   "source": [
    "Movies_1990s = netflix_df[(netflix_df['release_year'] >= 1990) & (netflix_df['release_year'] < 2000)]\n",
    "s = Movies_1990s.groupby('duration')['duration'].count().rename('count')\n",
    "max_count = s.max()\n",
    "duration = s[s == max_count].index[0]\n",
    "print(duration)"
   ]
  },
  {
   "cell_type": "markdown",
   "id": "7874a32e",
   "metadata": {},
   "source": [
    "### 🎬 Βήμα 4: Καταμέτρηση σύντομων ταινιών δράσης της δεκαετίας του 1990\n",
    "Φιλτράρουμε ταινίες δράσης με διάρκεια κάτω από 90 λεπτά, που κυκλοφόρησαν μεταξύ 1990 και 1999, και υπολογίζουμε πόσες είναι."
   ]
  },
  {
   "cell_type": "code",
   "execution_count": 8,
   "id": "67a06eab-107c-4417-9e28-bd1aab87493e",
   "metadata": {},
   "outputs": [
    {
     "name": "stdout",
     "output_type": "stream",
     "text": [
      "7\n"
     ]
    }
   ],
   "source": [
    "Action_Movies = netflix_df[(netflix_df['genre'] == 'Action') & \n",
    "                           (netflix_df['duration'] < 90) & \n",
    "                           (netflix_df['type'] == 'Movie') & \n",
    "                           (netflix_df['release_year'].between(1990, 1999))]\n",
    "\n",
    "short_movie_count = Action_Movies['show_id'].count()\n",
    "print(short_movie_count)"
   ]
  },
  {
   "cell_type": "markdown",
   "id": "1a44f35b-3fa9-4d80-8619-3999a0b7423b",
   "metadata": {
    "panel-layout": {
     "height": 344.20001220703125,
     "visible": true,
     "width": 100
    }
   },
   "source": [
    "Netflix! What started in 1997 as a DVD rental service has since exploded into one of the largest entertainment and media companies.\n",
    "\n",
    "Given the large number of movies and series available on the platform, it is a perfect opportunity to flex your exploratory data analysis skills and dive into the entertainment industry.\n",
    "\n",
    "You work for a production company that specializes in nostalgic styles. You want to do some research on movies released in the 1990's. You'll delve into Netflix data and perform exploratory data analysis to better understand this awesome movie decade!\n",
    "\n",
    "You have been supplied with the dataset netflix_data.csv, along with the following table detailing the column names and descriptions. Feel free to experiment further after submitting!"
   ]
  }
 ],
 "metadata": {
  "kernelspec": {
   "display_name": "Python [conda env:base] *",
   "language": "python",
   "name": "conda-base-py"
  },
  "language_info": {
   "codemirror_mode": {
    "name": "ipython",
    "version": 3
   },
   "file_extension": ".py",
   "mimetype": "text/x-python",
   "name": "python",
   "nbconvert_exporter": "python",
   "pygments_lexer": "ipython3",
   "version": "3.12.3"
  },
  "panel-cell-order": [
   "39dc7d56-4a34-4429-8d74-1484e058c347",
   "258350c0-a1f3-40c8-ba5a-d17a6e092a71",
   "317703fa-3984-43f8-a39e-a5f64ed0df9c",
   "1a44f35b-3fa9-4d80-8619-3999a0b7423b"
  ]
 },
 "nbformat": 4,
 "nbformat_minor": 5
}
